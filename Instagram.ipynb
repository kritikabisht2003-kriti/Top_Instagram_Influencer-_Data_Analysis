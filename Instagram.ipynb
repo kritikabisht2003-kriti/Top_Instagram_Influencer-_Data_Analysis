{
 "cells": [
  {
   "cell_type": "code",
   "execution_count": 7,
   "id": "87991d65-661f-4dd2-8ad5-fc862a339066",
   "metadata": {},
   "outputs": [],
   "source": [
    "#                                              Top Instagram Influencers Data (Cleaned)\n",
    "#import libaries\n",
    "import os, sys, pandas as pd, numpy as np\n",
    "import matplotlib.pyplot as plt\n",
    "from sklearn.model_selection import train_test_split, cross_val_score\n",
    "from sklearn.ensemble import RandomForestRegressor\n",
    "from sklearn.pipeline import Pipeline\n",
    "from sklearn.compose import ColumnTransformer\n",
    "from sklearn.preprocessing import StandardScaler\n",
    "from sklearn.impute import SimpleImputer\n",
    "from sklearn.feature_extraction import FeatureHasher\n",
    "from sklearn.metrics import mean_squared_error, mean_absolute_error, r2_score\n",
    "import joblib\n",
    "from collections import Counter"
   ]
  },
  {
   "cell_type": "code",
   "execution_count": 8,
   "id": "26421357-3695-478f-9e8b-d313ac9c8a2d",
   "metadata": {},
   "outputs": [
    {
     "name": "stdout",
     "output_type": "stream",
     "text": [
      "Loaded shape: (200, 32)\n",
      "Columns: ['rank', 'channel_info', 'influence_score', 'posts', 'followers', 'avg_likes', '60_day_eng_rate', 'new_post_avg_like', 'total_likes', 'country', 'avg_comments', 'engagement', 'engagement_rate_pct', 'engagement_rate_decimal', 'likes_per_post_from_total', 'likes_per_post', 'following', 'followers_following_ratio', 'log1p_followers', 'log1p_posts', 'log1p_total_likes', 'log1p_likes_per_post', 'caption_len', 'hashtag_count', 'mention_count', 'url_count', 'days_since_last_post', 'account_age_days', 'posts_per_day', 'posts_per_month', 'verified_binary', 'followers_times_engrate']\n"
     ]
    }
   ],
   "source": [
    "# ---------- SETTINGS ----------\n",
    "DATA_PATH = r\"C:\\Users\\kriti\\Downloads\\top_insta_influencers_data.csv\"   # change if needed\n",
    "OUT_DIR = './project_outputs'\n",
    "os.makedirs(OUT_DIR, exist_ok=True)\n",
    "# ---------- 1. LOAD ----------\n",
    "if not os.path.exists(DATA_PATH):\n",
    "    raise FileNotFoundError(f\"Data file not found at {DATA_PATH}\")\n",
    "df = pd.read_csv(DATA_PATH, low_memory=False)\n",
    "print(\"Loaded shape:\", df.shape)\n",
    "print(\"Columns:\", df.columns.tolist())"
   ]
  },
  {
   "cell_type": "code",
   "execution_count": 9,
   "id": "b0c5b789-9a1b-4e13-8300-2a9c68ee8c78",
   "metadata": {},
   "outputs": [],
   "source": [
    "# ---------- 2. CLEAN COLUMN NAMES ----------\n",
    "df.columns = [c.strip().lower().replace(' ', '_') for c in df.columns]"
   ]
  },
  {
   "cell_type": "code",
   "execution_count": 10,
   "id": "ec6b3ecb-e41e-4b33-bea3-2890f91f708f",
   "metadata": {},
   "outputs": [],
   "source": [
    "# ---------- 3. NUMERIC STRING CLEANUP ----------\n",
    "def clean_numeric_strings(series):\n",
    "    if series.dtype == object:\n",
    "        s = series.str.replace(',', '', regex=False).str.replace('%','', regex=False).str.strip()\n",
    "        s = s.replace({'': np.nan, 'nan': np.nan, 'none': np.nan})\n",
    "        return pd.to_numeric(s, errors='coerce')\n",
    "    return series"
   ]
  },
  {
   "cell_type": "code",
   "execution_count": 11,
   "id": "5061b1d7-85f4-4218-addd-ce5e9a7ca7be",
   "metadata": {},
   "outputs": [],
   "source": [
    "# Apply only when likely numeric (heuristic)\n",
    "for col in df.columns:\n",
    "    if df[col].dtype == object:\n",
    "        sample = df[col].dropna().astype(str).head(200)\n",
    "        if len(sample) > 0 and (sample.str.contains(r'\\d').sum() > max(5, len(sample)*0.1)):\n",
    "            df[col] = clean_numeric_strings(df[col])\n"
   ]
  },
  {
   "cell_type": "code",
   "execution_count": 12,
   "id": "b93460ac-6273-41a9-812b-2cff78fa334a",
   "metadata": {},
   "outputs": [],
   "source": [
    "# Apply only when likely numeric (heuristic)\n",
    "for col in df.columns:\n",
    "    if df[col].dtype == object:\n",
    "        sample = df[col].dropna().astype(str).head(200)\n",
    "        if len(sample) > 0 and (sample.str.contains(r'\\d').sum() > max(5, len(sample)*0.1)):\n",
    "            df[col] = clean_numeric_strings(df[col])\n"
   ]
  },
  {
   "cell_type": "code",
   "execution_count": 13,
   "id": "1dcf9f87-c260-40e4-a850-d475aa71a806",
   "metadata": {},
   "outputs": [
    {
     "name": "stdout",
     "output_type": "stream",
     "text": [
      "After drop missing/zero followers: (200, 32)\n"
     ]
    }
   ],
   "source": [
    "# ---------- 5. DROP rows with no followers ----------\n",
    "df = df[df['followers'].notna() & (df['followers'] > 0)].reset_index(drop=True)\n",
    "print(\"After drop missing/zero followers:\", df.shape)"
   ]
  },
  {
   "cell_type": "code",
   "execution_count": 14,
   "id": "ef7ce11e-c747-4b4f-9ba7-623612150990",
   "metadata": {},
   "outputs": [],
   "source": [
    "# ---------- 6. Feature engineering ----------\n",
    "# log transforms\n",
    "for c in ['followers','avg_likes','total_likes','influence_score']:\n",
    "    if c in df.columns:\n",
    "        df[c + '_log1p'] = np.log1p(df[c].clip(lower=0))"
   ]
  },
  {
   "cell_type": "code",
   "execution_count": 15,
   "id": "8f848c9d-8694-4623-ac0a-7776f6ad5416",
   "metadata": {},
   "outputs": [],
   "source": [
    "# follower quantile bin (4 bins)\n",
    "df['follower_bin'] = pd.qcut(df['followers'], q=4, labels=['q1_small','q2','q3','q4_large'])"
   ]
  },
  {
   "cell_type": "code",
   "execution_count": 16,
   "id": "a5c7d2aa-01ee-431f-b9b9-30b4018ea29d",
   "metadata": {},
   "outputs": [],
   "source": [
    "# text length if channel_info exists\n",
    "if 'channel_info' in df.columns:\n",
    "    df['channel_info_len'] = df['channel_info'].fillna('').astype(str).str.len()"
   ]
  },
  {
   "cell_type": "code",
   "execution_count": 17,
   "id": "b2ec137d-0bfd-467c-90d1-144ed8d7a6f6",
   "metadata": {},
   "outputs": [],
   "source": [
    "# ---------- 7. Prepare feature lists ----------\n",
    "# drop identifier-like fields from features if present\n",
    "drop_like = []\n",
    "for k in ['username','id','name','profile','channel_info']:\n",
    "    if k in df.columns:\n",
    "        drop_like.append(k)\n",
    "\n",
    "target = 'engagement_rate_pct'\n",
    "features = [c for c in df.columns if c not in drop_like + [target]]"
   ]
  },
  {
   "cell_type": "code",
   "execution_count": 18,
   "id": "8b2926d7-7f35-4639-8d9c-4d321a7cd13f",
   "metadata": {},
   "outputs": [
    {
     "name": "stdout",
     "output_type": "stream",
     "text": [
      "Numeric features: ['rank', 'influence_score', 'posts', 'followers', 'avg_likes', '60_day_eng_rate', 'new_post_avg_like', 'total_likes', 'avg_comments', 'engagement', 'engagement_rate_decimal', 'likes_per_post_from_total', 'likes_per_post', 'following', 'followers_following_ratio', 'log1p_followers', 'log1p_posts', 'log1p_total_likes', 'log1p_likes_per_post', 'caption_len', 'hashtag_count', 'mention_count', 'url_count', 'days_since_last_post', 'account_age_days', 'posts_per_day', 'posts_per_month', 'verified_binary', 'followers_times_engrate', 'followers_log1p', 'avg_likes_log1p', 'total_likes_log1p', 'influence_score_log1p', 'channel_info_len']\n",
      "Categorical features: ['country', 'follower_bin']\n"
     ]
    }
   ],
   "source": [
    "# Separate numeric & categorical\n",
    "num_features = df[features].select_dtypes(include=[np.number]).columns.tolist()\n",
    "cat_features = df[features].select_dtypes(include=['object','category']).columns.tolist()\n",
    "\n",
    "print(\"Numeric features:\", num_features)\n",
    "print(\"Categorical features:\", cat_features)"
   ]
  },
  {
   "cell_type": "code",
   "execution_count": 19,
   "id": "45c87afc-3151-4a04-be7b-c93ee13664c3",
   "metadata": {},
   "outputs": [],
   "source": [
    "# ---------- 8. Efficient encoding for categorical features ----------\n",
    "# For low-cardinality categorical use frequency encoding; for high-cardinality use hashing.\n",
    "# Set threshold\n",
    "HIGH_CARD_THR = 20\n",
    "\n",
    "# Build transforms: numeric: median impute + scale\n",
    "num_transformer = Pipeline([\n",
    "    ('imputer', SimpleImputer(strategy='median')),\n",
    "    ('scaler', StandardScaler())\n",
    "])"
   ]
  },
  {
   "cell_type": "code",
   "execution_count": 20,
   "id": "9decf723-ae72-4240-a15d-4a76b4de38bc",
   "metadata": {},
   "outputs": [],
   "source": [
    "# We'll build a two-part preprocessor manually:\n",
    "# - numeric pipeline applied\n",
    "# - categorical features transformed to numeric using frequency encoding and hashing for high-card\n",
    "def freq_encode(df_col):\n",
    "    vc = df_col.fillna('unknown').astype(str).value_counts(normalize=True)\n",
    "    return df_col.fillna('unknown').astype(str).map(vc).astype(float)"
   ]
  },
  {
   "cell_type": "code",
   "execution_count": 23,
   "id": "41a48389-3d08-418e-84c9-a2b1ce129388",
   "metadata": {},
   "outputs": [],
   "source": [
    "# Precompute encoded categorical columns into new DataFrame to keep pipeline simple & fast\n",
    "for c in cat_features:\n",
    "    # Convert to string first to avoid pandas categorical issues\n",
    "    col_str = df[c].astype(str).replace('nan', 'unknown')\n",
    "    n_unique = col_str.nunique(dropna=False)\n",
    "\n",
    "    if n_unique <= HIGH_CARD_THR:\n",
    "        cat_encoded[c + '_freq'] = freq_encode(col_str)\n",
    "    else:\n",
    "        # High-cardinality column -> hash encoding\n",
    "        k = 8\n",
    "        hasher = FeatureHasher(n_features=k, input_type='string')\n",
    "        vals = col_str.tolist()\n",
    "        hashed = hasher.transform([[v] for v in vals]).toarray()\n",
    "        for i in range(k):\n",
    "            cat_encoded[f\"{c}_hash_{i}\"] = hashed[:, i]\n",
    "\n"
   ]
  },
  {
   "cell_type": "code",
   "execution_count": 24,
   "id": "89f9afc8-fbc3-42fe-9f1d-6b58784f2d75",
   "metadata": {},
   "outputs": [
    {
     "name": "stdout",
     "output_type": "stream",
     "text": [
      "Modeling matrix shape: (200, 43)\n"
     ]
    }
   ],
   "source": [
    "# Final modeling DataFrame\n",
    "X_full = pd.concat([df[num_features].reset_index(drop=True), cat_encoded.reset_index(drop=True)], axis=1)\n",
    "y_full = df[target].astype(float)\n",
    "\n",
    "print(\"Modeling matrix shape:\", X_full.shape)"
   ]
  },
  {
   "cell_type": "code",
   "execution_count": 25,
   "id": "ab653280-c792-4cca-af82-dfd67cc8c35b",
   "metadata": {},
   "outputs": [
    {
     "name": "stdout",
     "output_type": "stream",
     "text": [
      "Train/test shapes: (160, 43) (40, 43)\n"
     ]
    }
   ],
   "source": [
    "# ---------- 9. Train/test split ----------\n",
    "X_train, X_test, y_train, y_test = train_test_split(X_full, y_full, test_size=0.2, random_state=42)\n",
    "print(\"Train/test shapes:\", X_train.shape, X_test.shape)"
   ]
  },
  {
   "cell_type": "code",
   "execution_count": 26,
   "id": "276dbf27-bb2a-4cdf-baf5-9d02a87026ac",
   "metadata": {},
   "outputs": [],
   "source": [
    "# ---------- 10. Build and run model ----------\n",
    "model = RandomForestRegressor(n_estimators=200, random_state=42, n_jobs=-1)"
   ]
  },
  {
   "cell_type": "code",
   "execution_count": 28,
   "id": "f030627a-1838-45e7-acc1-d2bcd9714e3d",
   "metadata": {},
   "outputs": [
    {
     "name": "stderr",
     "output_type": "stream",
     "text": [
      "C:\\ProgramData\\anaconda3\\Lib\\site-packages\\sklearn\\impute\\_base.py:598: UserWarning: Skipping features without any observed values: ['following' 'followers_following_ratio' 'caption_len' 'hashtag_count'\n",
      " 'mention_count' 'url_count' 'days_since_last_post' 'account_age_days'\n",
      " 'posts_per_day' 'posts_per_month']. At least one non-missing value is needed for imputation with strategy='median'.\n",
      "  warnings.warn(\n",
      "C:\\ProgramData\\anaconda3\\Lib\\site-packages\\sklearn\\impute\\_base.py:598: UserWarning: Skipping features without any observed values: ['following' 'followers_following_ratio' 'caption_len' 'hashtag_count'\n",
      " 'mention_count' 'url_count' 'days_since_last_post' 'account_age_days'\n",
      " 'posts_per_day' 'posts_per_month']. At least one non-missing value is needed for imputation with strategy='median'.\n",
      "  warnings.warn(\n"
     ]
    }
   ],
   "source": [
    "# We'll impute any remaining NaN in numeric features (should be few) using SimpleImputer\n",
    "from sklearn.impute import SimpleImputer\n",
    "imp = SimpleImputer(strategy='median')\n",
    "X_train_imp = pd.DataFrame(imp.fit_transform(X_train),\n",
    "                           index=X_train.index)\n",
    "X_test_imp = pd.DataFrame(imp.transform(X_test),\n",
    "                          index=X_test.index)\n"
   ]
  },
  {
   "cell_type": "code",
   "execution_count": 29,
   "id": "36db20b4-6478-4907-8fcf-22fbfd58cec7",
   "metadata": {},
   "outputs": [
    {
     "data": {
      "text/html": [
       "<style>#sk-container-id-1 {\n",
       "  /* Definition of color scheme common for light and dark mode */\n",
       "  --sklearn-color-text: black;\n",
       "  --sklearn-color-line: gray;\n",
       "  /* Definition of color scheme for unfitted estimators */\n",
       "  --sklearn-color-unfitted-level-0: #fff5e6;\n",
       "  --sklearn-color-unfitted-level-1: #f6e4d2;\n",
       "  --sklearn-color-unfitted-level-2: #ffe0b3;\n",
       "  --sklearn-color-unfitted-level-3: chocolate;\n",
       "  /* Definition of color scheme for fitted estimators */\n",
       "  --sklearn-color-fitted-level-0: #f0f8ff;\n",
       "  --sklearn-color-fitted-level-1: #d4ebff;\n",
       "  --sklearn-color-fitted-level-2: #b3dbfd;\n",
       "  --sklearn-color-fitted-level-3: cornflowerblue;\n",
       "\n",
       "  /* Specific color for light theme */\n",
       "  --sklearn-color-text-on-default-background: var(--sg-text-color, var(--theme-code-foreground, var(--jp-content-font-color1, black)));\n",
       "  --sklearn-color-background: var(--sg-background-color, var(--theme-background, var(--jp-layout-color0, white)));\n",
       "  --sklearn-color-border-box: var(--sg-text-color, var(--theme-code-foreground, var(--jp-content-font-color1, black)));\n",
       "  --sklearn-color-icon: #696969;\n",
       "\n",
       "  @media (prefers-color-scheme: dark) {\n",
       "    /* Redefinition of color scheme for dark theme */\n",
       "    --sklearn-color-text-on-default-background: var(--sg-text-color, var(--theme-code-foreground, var(--jp-content-font-color1, white)));\n",
       "    --sklearn-color-background: var(--sg-background-color, var(--theme-background, var(--jp-layout-color0, #111)));\n",
       "    --sklearn-color-border-box: var(--sg-text-color, var(--theme-code-foreground, var(--jp-content-font-color1, white)));\n",
       "    --sklearn-color-icon: #878787;\n",
       "  }\n",
       "}\n",
       "\n",
       "#sk-container-id-1 {\n",
       "  color: var(--sklearn-color-text);\n",
       "}\n",
       "\n",
       "#sk-container-id-1 pre {\n",
       "  padding: 0;\n",
       "}\n",
       "\n",
       "#sk-container-id-1 input.sk-hidden--visually {\n",
       "  border: 0;\n",
       "  clip: rect(1px 1px 1px 1px);\n",
       "  clip: rect(1px, 1px, 1px, 1px);\n",
       "  height: 1px;\n",
       "  margin: -1px;\n",
       "  overflow: hidden;\n",
       "  padding: 0;\n",
       "  position: absolute;\n",
       "  width: 1px;\n",
       "}\n",
       "\n",
       "#sk-container-id-1 div.sk-dashed-wrapped {\n",
       "  border: 1px dashed var(--sklearn-color-line);\n",
       "  margin: 0 0.4em 0.5em 0.4em;\n",
       "  box-sizing: border-box;\n",
       "  padding-bottom: 0.4em;\n",
       "  background-color: var(--sklearn-color-background);\n",
       "}\n",
       "\n",
       "#sk-container-id-1 div.sk-container {\n",
       "  /* jupyter's `normalize.less` sets `[hidden] { display: none; }`\n",
       "     but bootstrap.min.css set `[hidden] { display: none !important; }`\n",
       "     so we also need the `!important` here to be able to override the\n",
       "     default hidden behavior on the sphinx rendered scikit-learn.org.\n",
       "     See: https://github.com/scikit-learn/scikit-learn/issues/21755 */\n",
       "  display: inline-block !important;\n",
       "  position: relative;\n",
       "}\n",
       "\n",
       "#sk-container-id-1 div.sk-text-repr-fallback {\n",
       "  display: none;\n",
       "}\n",
       "\n",
       "div.sk-parallel-item,\n",
       "div.sk-serial,\n",
       "div.sk-item {\n",
       "  /* draw centered vertical line to link estimators */\n",
       "  background-image: linear-gradient(var(--sklearn-color-text-on-default-background), var(--sklearn-color-text-on-default-background));\n",
       "  background-size: 2px 100%;\n",
       "  background-repeat: no-repeat;\n",
       "  background-position: center center;\n",
       "}\n",
       "\n",
       "/* Parallel-specific style estimator block */\n",
       "\n",
       "#sk-container-id-1 div.sk-parallel-item::after {\n",
       "  content: \"\";\n",
       "  width: 100%;\n",
       "  border-bottom: 2px solid var(--sklearn-color-text-on-default-background);\n",
       "  flex-grow: 1;\n",
       "}\n",
       "\n",
       "#sk-container-id-1 div.sk-parallel {\n",
       "  display: flex;\n",
       "  align-items: stretch;\n",
       "  justify-content: center;\n",
       "  background-color: var(--sklearn-color-background);\n",
       "  position: relative;\n",
       "}\n",
       "\n",
       "#sk-container-id-1 div.sk-parallel-item {\n",
       "  display: flex;\n",
       "  flex-direction: column;\n",
       "}\n",
       "\n",
       "#sk-container-id-1 div.sk-parallel-item:first-child::after {\n",
       "  align-self: flex-end;\n",
       "  width: 50%;\n",
       "}\n",
       "\n",
       "#sk-container-id-1 div.sk-parallel-item:last-child::after {\n",
       "  align-self: flex-start;\n",
       "  width: 50%;\n",
       "}\n",
       "\n",
       "#sk-container-id-1 div.sk-parallel-item:only-child::after {\n",
       "  width: 0;\n",
       "}\n",
       "\n",
       "/* Serial-specific style estimator block */\n",
       "\n",
       "#sk-container-id-1 div.sk-serial {\n",
       "  display: flex;\n",
       "  flex-direction: column;\n",
       "  align-items: center;\n",
       "  background-color: var(--sklearn-color-background);\n",
       "  padding-right: 1em;\n",
       "  padding-left: 1em;\n",
       "}\n",
       "\n",
       "\n",
       "/* Toggleable style: style used for estimator/Pipeline/ColumnTransformer box that is\n",
       "clickable and can be expanded/collapsed.\n",
       "- Pipeline and ColumnTransformer use this feature and define the default style\n",
       "- Estimators will overwrite some part of the style using the `sk-estimator` class\n",
       "*/\n",
       "\n",
       "/* Pipeline and ColumnTransformer style (default) */\n",
       "\n",
       "#sk-container-id-1 div.sk-toggleable {\n",
       "  /* Default theme specific background. It is overwritten whether we have a\n",
       "  specific estimator or a Pipeline/ColumnTransformer */\n",
       "  background-color: var(--sklearn-color-background);\n",
       "}\n",
       "\n",
       "/* Toggleable label */\n",
       "#sk-container-id-1 label.sk-toggleable__label {\n",
       "  cursor: pointer;\n",
       "  display: block;\n",
       "  width: 100%;\n",
       "  margin-bottom: 0;\n",
       "  padding: 0.5em;\n",
       "  box-sizing: border-box;\n",
       "  text-align: center;\n",
       "}\n",
       "\n",
       "#sk-container-id-1 label.sk-toggleable__label-arrow:before {\n",
       "  /* Arrow on the left of the label */\n",
       "  content: \"▸\";\n",
       "  float: left;\n",
       "  margin-right: 0.25em;\n",
       "  color: var(--sklearn-color-icon);\n",
       "}\n",
       "\n",
       "#sk-container-id-1 label.sk-toggleable__label-arrow:hover:before {\n",
       "  color: var(--sklearn-color-text);\n",
       "}\n",
       "\n",
       "/* Toggleable content - dropdown */\n",
       "\n",
       "#sk-container-id-1 div.sk-toggleable__content {\n",
       "  max-height: 0;\n",
       "  max-width: 0;\n",
       "  overflow: hidden;\n",
       "  text-align: left;\n",
       "  /* unfitted */\n",
       "  background-color: var(--sklearn-color-unfitted-level-0);\n",
       "}\n",
       "\n",
       "#sk-container-id-1 div.sk-toggleable__content.fitted {\n",
       "  /* fitted */\n",
       "  background-color: var(--sklearn-color-fitted-level-0);\n",
       "}\n",
       "\n",
       "#sk-container-id-1 div.sk-toggleable__content pre {\n",
       "  margin: 0.2em;\n",
       "  border-radius: 0.25em;\n",
       "  color: var(--sklearn-color-text);\n",
       "  /* unfitted */\n",
       "  background-color: var(--sklearn-color-unfitted-level-0);\n",
       "}\n",
       "\n",
       "#sk-container-id-1 div.sk-toggleable__content.fitted pre {\n",
       "  /* unfitted */\n",
       "  background-color: var(--sklearn-color-fitted-level-0);\n",
       "}\n",
       "\n",
       "#sk-container-id-1 input.sk-toggleable__control:checked~div.sk-toggleable__content {\n",
       "  /* Expand drop-down */\n",
       "  max-height: 200px;\n",
       "  max-width: 100%;\n",
       "  overflow: auto;\n",
       "}\n",
       "\n",
       "#sk-container-id-1 input.sk-toggleable__control:checked~label.sk-toggleable__label-arrow:before {\n",
       "  content: \"▾\";\n",
       "}\n",
       "\n",
       "/* Pipeline/ColumnTransformer-specific style */\n",
       "\n",
       "#sk-container-id-1 div.sk-label input.sk-toggleable__control:checked~label.sk-toggleable__label {\n",
       "  color: var(--sklearn-color-text);\n",
       "  background-color: var(--sklearn-color-unfitted-level-2);\n",
       "}\n",
       "\n",
       "#sk-container-id-1 div.sk-label.fitted input.sk-toggleable__control:checked~label.sk-toggleable__label {\n",
       "  background-color: var(--sklearn-color-fitted-level-2);\n",
       "}\n",
       "\n",
       "/* Estimator-specific style */\n",
       "\n",
       "/* Colorize estimator box */\n",
       "#sk-container-id-1 div.sk-estimator input.sk-toggleable__control:checked~label.sk-toggleable__label {\n",
       "  /* unfitted */\n",
       "  background-color: var(--sklearn-color-unfitted-level-2);\n",
       "}\n",
       "\n",
       "#sk-container-id-1 div.sk-estimator.fitted input.sk-toggleable__control:checked~label.sk-toggleable__label {\n",
       "  /* fitted */\n",
       "  background-color: var(--sklearn-color-fitted-level-2);\n",
       "}\n",
       "\n",
       "#sk-container-id-1 div.sk-label label.sk-toggleable__label,\n",
       "#sk-container-id-1 div.sk-label label {\n",
       "  /* The background is the default theme color */\n",
       "  color: var(--sklearn-color-text-on-default-background);\n",
       "}\n",
       "\n",
       "/* On hover, darken the color of the background */\n",
       "#sk-container-id-1 div.sk-label:hover label.sk-toggleable__label {\n",
       "  color: var(--sklearn-color-text);\n",
       "  background-color: var(--sklearn-color-unfitted-level-2);\n",
       "}\n",
       "\n",
       "/* Label box, darken color on hover, fitted */\n",
       "#sk-container-id-1 div.sk-label.fitted:hover label.sk-toggleable__label.fitted {\n",
       "  color: var(--sklearn-color-text);\n",
       "  background-color: var(--sklearn-color-fitted-level-2);\n",
       "}\n",
       "\n",
       "/* Estimator label */\n",
       "\n",
       "#sk-container-id-1 div.sk-label label {\n",
       "  font-family: monospace;\n",
       "  font-weight: bold;\n",
       "  display: inline-block;\n",
       "  line-height: 1.2em;\n",
       "}\n",
       "\n",
       "#sk-container-id-1 div.sk-label-container {\n",
       "  text-align: center;\n",
       "}\n",
       "\n",
       "/* Estimator-specific */\n",
       "#sk-container-id-1 div.sk-estimator {\n",
       "  font-family: monospace;\n",
       "  border: 1px dotted var(--sklearn-color-border-box);\n",
       "  border-radius: 0.25em;\n",
       "  box-sizing: border-box;\n",
       "  margin-bottom: 0.5em;\n",
       "  /* unfitted */\n",
       "  background-color: var(--sklearn-color-unfitted-level-0);\n",
       "}\n",
       "\n",
       "#sk-container-id-1 div.sk-estimator.fitted {\n",
       "  /* fitted */\n",
       "  background-color: var(--sklearn-color-fitted-level-0);\n",
       "}\n",
       "\n",
       "/* on hover */\n",
       "#sk-container-id-1 div.sk-estimator:hover {\n",
       "  /* unfitted */\n",
       "  background-color: var(--sklearn-color-unfitted-level-2);\n",
       "}\n",
       "\n",
       "#sk-container-id-1 div.sk-estimator.fitted:hover {\n",
       "  /* fitted */\n",
       "  background-color: var(--sklearn-color-fitted-level-2);\n",
       "}\n",
       "\n",
       "/* Specification for estimator info (e.g. \"i\" and \"?\") */\n",
       "\n",
       "/* Common style for \"i\" and \"?\" */\n",
       "\n",
       ".sk-estimator-doc-link,\n",
       "a:link.sk-estimator-doc-link,\n",
       "a:visited.sk-estimator-doc-link {\n",
       "  float: right;\n",
       "  font-size: smaller;\n",
       "  line-height: 1em;\n",
       "  font-family: monospace;\n",
       "  background-color: var(--sklearn-color-background);\n",
       "  border-radius: 1em;\n",
       "  height: 1em;\n",
       "  width: 1em;\n",
       "  text-decoration: none !important;\n",
       "  margin-left: 1ex;\n",
       "  /* unfitted */\n",
       "  border: var(--sklearn-color-unfitted-level-1) 1pt solid;\n",
       "  color: var(--sklearn-color-unfitted-level-1);\n",
       "}\n",
       "\n",
       ".sk-estimator-doc-link.fitted,\n",
       "a:link.sk-estimator-doc-link.fitted,\n",
       "a:visited.sk-estimator-doc-link.fitted {\n",
       "  /* fitted */\n",
       "  border: var(--sklearn-color-fitted-level-1) 1pt solid;\n",
       "  color: var(--sklearn-color-fitted-level-1);\n",
       "}\n",
       "\n",
       "/* On hover */\n",
       "div.sk-estimator:hover .sk-estimator-doc-link:hover,\n",
       ".sk-estimator-doc-link:hover,\n",
       "div.sk-label-container:hover .sk-estimator-doc-link:hover,\n",
       ".sk-estimator-doc-link:hover {\n",
       "  /* unfitted */\n",
       "  background-color: var(--sklearn-color-unfitted-level-3);\n",
       "  color: var(--sklearn-color-background);\n",
       "  text-decoration: none;\n",
       "}\n",
       "\n",
       "div.sk-estimator.fitted:hover .sk-estimator-doc-link.fitted:hover,\n",
       ".sk-estimator-doc-link.fitted:hover,\n",
       "div.sk-label-container:hover .sk-estimator-doc-link.fitted:hover,\n",
       ".sk-estimator-doc-link.fitted:hover {\n",
       "  /* fitted */\n",
       "  background-color: var(--sklearn-color-fitted-level-3);\n",
       "  color: var(--sklearn-color-background);\n",
       "  text-decoration: none;\n",
       "}\n",
       "\n",
       "/* Span, style for the box shown on hovering the info icon */\n",
       ".sk-estimator-doc-link span {\n",
       "  display: none;\n",
       "  z-index: 9999;\n",
       "  position: relative;\n",
       "  font-weight: normal;\n",
       "  right: .2ex;\n",
       "  padding: .5ex;\n",
       "  margin: .5ex;\n",
       "  width: min-content;\n",
       "  min-width: 20ex;\n",
       "  max-width: 50ex;\n",
       "  color: var(--sklearn-color-text);\n",
       "  box-shadow: 2pt 2pt 4pt #999;\n",
       "  /* unfitted */\n",
       "  background: var(--sklearn-color-unfitted-level-0);\n",
       "  border: .5pt solid var(--sklearn-color-unfitted-level-3);\n",
       "}\n",
       "\n",
       ".sk-estimator-doc-link.fitted span {\n",
       "  /* fitted */\n",
       "  background: var(--sklearn-color-fitted-level-0);\n",
       "  border: var(--sklearn-color-fitted-level-3);\n",
       "}\n",
       "\n",
       ".sk-estimator-doc-link:hover span {\n",
       "  display: block;\n",
       "}\n",
       "\n",
       "/* \"?\"-specific style due to the `<a>` HTML tag */\n",
       "\n",
       "#sk-container-id-1 a.estimator_doc_link {\n",
       "  float: right;\n",
       "  font-size: 1rem;\n",
       "  line-height: 1em;\n",
       "  font-family: monospace;\n",
       "  background-color: var(--sklearn-color-background);\n",
       "  border-radius: 1rem;\n",
       "  height: 1rem;\n",
       "  width: 1rem;\n",
       "  text-decoration: none;\n",
       "  /* unfitted */\n",
       "  color: var(--sklearn-color-unfitted-level-1);\n",
       "  border: var(--sklearn-color-unfitted-level-1) 1pt solid;\n",
       "}\n",
       "\n",
       "#sk-container-id-1 a.estimator_doc_link.fitted {\n",
       "  /* fitted */\n",
       "  border: var(--sklearn-color-fitted-level-1) 1pt solid;\n",
       "  color: var(--sklearn-color-fitted-level-1);\n",
       "}\n",
       "\n",
       "/* On hover */\n",
       "#sk-container-id-1 a.estimator_doc_link:hover {\n",
       "  /* unfitted */\n",
       "  background-color: var(--sklearn-color-unfitted-level-3);\n",
       "  color: var(--sklearn-color-background);\n",
       "  text-decoration: none;\n",
       "}\n",
       "\n",
       "#sk-container-id-1 a.estimator_doc_link.fitted:hover {\n",
       "  /* fitted */\n",
       "  background-color: var(--sklearn-color-fitted-level-3);\n",
       "}\n",
       "</style><div id=\"sk-container-id-1\" class=\"sk-top-container\"><div class=\"sk-text-repr-fallback\"><pre>RandomForestRegressor(n_estimators=200, n_jobs=-1, random_state=42)</pre><b>In a Jupyter environment, please rerun this cell to show the HTML representation or trust the notebook. <br />On GitHub, the HTML representation is unable to render, please try loading this page with nbviewer.org.</b></div><div class=\"sk-container\" hidden><div class=\"sk-item\"><div class=\"sk-estimator fitted sk-toggleable\"><input class=\"sk-toggleable__control sk-hidden--visually\" id=\"sk-estimator-id-1\" type=\"checkbox\" checked><label for=\"sk-estimator-id-1\" class=\"sk-toggleable__label fitted sk-toggleable__label-arrow fitted\">&nbsp;&nbsp;RandomForestRegressor<a class=\"sk-estimator-doc-link fitted\" rel=\"noreferrer\" target=\"_blank\" href=\"https://scikit-learn.org/1.5/modules/generated/sklearn.ensemble.RandomForestRegressor.html\">?<span>Documentation for RandomForestRegressor</span></a><span class=\"sk-estimator-doc-link fitted\">i<span>Fitted</span></span></label><div class=\"sk-toggleable__content fitted\"><pre>RandomForestRegressor(n_estimators=200, n_jobs=-1, random_state=42)</pre></div> </div></div></div></div>"
      ],
      "text/plain": [
       "RandomForestRegressor(n_estimators=200, n_jobs=-1, random_state=42)"
      ]
     },
     "execution_count": 29,
     "metadata": {},
     "output_type": "execute_result"
    }
   ],
   "source": [
    "# scale numeric if desired - for random forest not necessary; keeping raw numeric usually fine\n",
    "model.fit(X_train_imp, y_train)"
   ]
  },
  {
   "cell_type": "code",
   "execution_count": 30,
   "id": "af3f7dd6-f556-484d-b949-1b57f66aea6b",
   "metadata": {},
   "outputs": [
    {
     "name": "stdout",
     "output_type": "stream",
     "text": [
      "CV RMSE (training): 1.023856669601869\n"
     ]
    }
   ],
   "source": [
    "# CV RMSE (on training set)\n",
    "cv_scores = cross_val_score(model, X_train_imp, y_train, cv=5, scoring='neg_root_mean_squared_error', n_jobs=-1)\n",
    "print(\"CV RMSE (training):\", -cv_scores.mean())"
   ]
  },
  {
   "cell_type": "code",
   "execution_count": 31,
   "id": "addec964-9d0f-44eb-b488-680f2309aa7a",
   "metadata": {},
   "outputs": [
    {
     "name": "stdout",
     "output_type": "stream",
     "text": [
      "Test RMSE: 0.2059, MAE: 0.1128, R2: 0.9931\n"
     ]
    },
    {
     "name": "stderr",
     "output_type": "stream",
     "text": [
      "C:\\ProgramData\\anaconda3\\Lib\\site-packages\\sklearn\\metrics\\_regression.py:492: FutureWarning: 'squared' is deprecated in version 1.4 and will be removed in 1.6. To calculate the root mean squared error, use the function'root_mean_squared_error'.\n",
      "  warnings.warn(\n"
     ]
    }
   ],
   "source": [
    "# ---------- 11. Evaluate on test ----------\n",
    "y_pred = model.predict(X_test_imp)\n",
    "rmse = mean_squared_error(y_test, y_pred, squared=False)\n",
    "mae = mean_absolute_error(y_test, y_pred)\n",
    "r2 = r2_score(y_test, y_pred)\n",
    "print(f\"Test RMSE: {rmse:.4f}, MAE: {mae:.4f}, R2: {r2:.4f}\")"
   ]
  },
  {
   "cell_type": "code",
   "execution_count": 32,
   "id": "685d3345-9029-4628-aad1-fbcdfaf1d363",
   "metadata": {},
   "outputs": [],
   "source": [
    "# ---------- 12. Feature importances ----------\n",
    "# RandomForest feature_importances_ align with X_train_imp columns\n",
    "fi = pd.DataFrame({'feature': X_train_imp.columns, 'importance': model.feature_importances_})\n",
    "fi = fi.sort_values('importance', ascending=False).reset_index(drop=True)"
   ]
  },
  {
   "cell_type": "code",
   "execution_count": 33,
   "id": "d868b28b-9993-4e34-ab56-09e35a82a324",
   "metadata": {},
   "outputs": [],
   "source": [
    "# ---------- 13. Save outputs for Power BI ----------\n",
    "cleaned_path = os.path.join(OUT_DIR, 'cleaned_data.csv')\n",
    "pred_path = os.path.join(OUT_DIR, 'model_predictions.csv')\n",
    "summary_path = os.path.join(OUT_DIR, 'summary_metrics.csv')\n",
    "featimp_path = os.path.join(OUT_DIR, 'feature_importance.csv')\n",
    "model_path = os.path.join(OUT_DIR, 'best_model.pkl')"
   ]
  },
  {
   "cell_type": "code",
   "execution_count": 34,
   "id": "6af8a0c9-ccfb-4596-8c6d-509c12c6c986",
   "metadata": {},
   "outputs": [],
   "source": [
    "# Save cleaned dataset (original cols + engineered features)\n",
    "df.to_csv(cleaned_path, index=False)"
   ]
  },
  {
   "cell_type": "code",
   "execution_count": 35,
   "id": "7aa698a6-d153-4274-b10e-cb5c2bfb0b05",
   "metadata": {},
   "outputs": [],
   "source": [
    "# Save predictions: attach original index info if you have an identifier, else include all modeling cols\n",
    "pred_df = X_test_imp.copy()\n",
    "pred_df[target + '_actual'] = y_test.values\n",
    "pred_df[target + '_pred'] = y_pred\n",
    "pred_df.to_csv(pred_path, index=False)"
   ]
  },
  {
   "cell_type": "code",
   "execution_count": 36,
   "id": "b58b2471-870f-406e-94fb-7dafef388a7e",
   "metadata": {},
   "outputs": [
    {
     "name": "stdout",
     "output_type": "stream",
     "text": [
      "Saved outputs to: ./project_outputs\n",
      "Files: ['best_model.pkl', 'cleaned_data.csv', 'feature_importance.csv', 'model_predictions.csv', 'summary_metrics.csv']\n"
     ]
    }
   ],
   "source": [
    "# Save summary metrics\n",
    "pd.DataFrame([{'rmse': rmse, 'mae': mae, 'r2': r2, 'cv_rmse_mean': -cv_scores.mean()}]).to_csv(summary_path, index=False)\n",
    "fi.to_csv(featimp_path, index=False)\n",
    "joblib.dump({'model': model, 'imputer': imp, 'features': X_train_imp.columns.tolist()}, model_path)\n",
    "\n",
    "print(\"Saved outputs to:\", OUT_DIR)\n",
    "print(\"Files:\", os.listdir(OUT_DIR))"
   ]
  },
  {
   "cell_type": "code",
   "execution_count": 37,
   "id": "9e972f95-818a-4af8-8a80-f67ccb66c143",
   "metadata": {},
   "outputs": [
    {
     "data": {
      "image/png": "[encoded data removed]",
      "text/plain": [
       "<Figure size 640x480 with 1 Axes>"
      ]
     },
     "metadata": {},
     "output_type": "display_data"
    },
    {
     "data": {
      "text/plain": [
       "<Figure size 640x480 with 0 Axes>"
      ]
     },
     "metadata": {},
     "output_type": "display_data"
    },
    {
     "data": {
      "image/png": "[encoded data removed]",
      "text/plain": [
       "<Figure size 640x480 with 1 Axes>"
      ]
     },
     "metadata": {},
     "output_type": "display_data"
    }
   ],
   "source": [
    "# ---------- 14. Quick plots ----------\n",
    "plt.figure()\n",
    "plt.scatter(y_test, y_pred, alpha=0.6)\n",
    "plt.xlabel(\"Actual \" + target)\n",
    "plt.ylabel(\"Predicted \" + target)\n",
    "plt.title(\"Actual vs Predicted — Test set\")\n",
    "plt.show()\n",
    "\n",
    "plt.figure()\n",
    "fi.head(20).plot(kind='barh', x='feature', y='importance', legend=False)\n",
    "plt.title(\"Top 20 Feature Importances\")\n",
    "plt.gca().invert_yaxis()\n",
    "plt.show()"
   ]
  },
  {
   "cell_type": "code",
   "execution_count": 38,
   "id": "ac4c4d9a-d028-49ce-9d62-7787d2088178",
   "metadata": {},
   "outputs": [
    {
     "name": "stdout",
     "output_type": "stream",
     "text": [
      "\n",
      "Run complete. Files created:\n",
      " - Cleaned dataset: ./project_outputs\\cleaned_data.csv\n",
      " - Predictions: ./project_outputs\\model_predictions.csv\n",
      " - Summary metrics: ./project_outputs\\summary_metrics.csv\n",
      " - Feature importance: ./project_outputs\\feature_importance.csv\n",
      " - Model artifact: ./project_outputs\\best_model.pkl\n",
      "\n",
      "Power BI instruction: load 'cleaned_data.csv' + 'model_predictions.csv' + 'feature_importance.csv' (see next cell for detailed steps).\n"
     ]
    }
   ],
   "source": [
    "# ---------- 15. Print run summary ----------\n",
    "print(\"\\nRun complete. Files created:\")\n",
    "print(\" - Cleaned dataset:\", cleaned_path)\n",
    "print(\" - Predictions:\", pred_path)\n",
    "print(\" - Summary metrics:\", summary_path)\n",
    "print(\" - Feature importance:\", featimp_path)\n",
    "print(\" - Model artifact:\", model_path)\n",
    "\n",
    "print(\"\\nPower BI instruction: load 'cleaned_data.csv' + 'model_predictions.csv' + 'feature_importance.csv' (see next cell for detailed steps).\")"
   ]
  },
  {
   "cell_type": "code",
   "execution_count": 39,
   "id": "3a862cd7-0a66-48d6-b728-1e8b509ae7a6",
   "metadata": {},
   "outputs": [
    {
     "name": "stdout",
     "output_type": "stream",
     "text": [
      "File saved at: C:\\Users\\kriti\\cleaned_data.csv\n"
     ]
    }
   ],
   "source": [
    "import os\n",
    "print(\"File saved at:\", os.path.abspath(\"cleaned_data.csv\"))"
   ]
  },
  {
   "cell_type": "code",
   "execution_count": null,
   "id": "b895ea4a-ccb3-4d65-b69c-a79eda4577f8",
   "metadata": {},
   "outputs": [],
   "source": []
  }
 ],
 "metadata": {
  "kernelspec": {
   "display_name": "Python [conda env:base] *",
   "language": "python",
   "name": "conda-base-py"
  },
  "language_info": {
   "codemirror_mode": {
    "name": "ipython",
    "version": 3
   },
   "file_extension": ".py",
   "mimetype": "text/x-python",
   "name": "python",
   "nbconvert_exporter": "python",
   "pygments_lexer": "ipython3",
   "version": "3.12.7"
  }
 },
 "nbformat": 4,
 "nbformat_minor": 5
}
